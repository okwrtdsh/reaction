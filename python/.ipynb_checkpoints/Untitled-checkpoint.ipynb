{
 "cells": [
  {
   "cell_type": "code",
   "execution_count": 191,
   "metadata": {
    "collapsed": false
   },
   "outputs": [
    {
     "name": "stdout",
     "output_type": "stream",
     "text": [
      "417\n",
      "AVG: 406.636363636\n",
      "STD 36.9498026519\n",
      "X2: 2681.45457085 \n",
      "P: 0.0\n",
      "W: 0.968814015388 \n",
      "P: 1.25404042706e-07\n",
      "392.15\n",
      "AVG: 406.636363636\n",
      "STD 36.9498026519\n",
      "398.2\n",
      "AVG: 406.166246851\n",
      "STD 33.7817497906\n",
      "X2: 2272.79550379 \n",
      "P: 3.09352027086e-260\n",
      "W: 0.969408631325 \n",
      "P: 2.18171877009e-07\n"
     ]
    },
    {
     "data": {
      "image/png": "[encoded data removed]",
      "text/plain": [
       "<matplotlib.figure.Figure at 0x10dc9e510>"
      ]
     },
     "metadata": {},
     "output_type": "display_data"
    }
   ],
   "source": [
    "# coding: UTF-8\n",
    "%matplotlib  inline\n",
    "import random\n",
    "from matplotlib import pyplot as plt\n",
    "from scipy import genfromtxt\n",
    "from scipy import stats\n",
    "import numpy as np\n",
    "\n",
    "\n",
    "d = np.loadtxt(\"../data/result1.csv\", delimiter=\",\",skiprows=1,unpack=True,\n",
    "               dtype=[('col1',int),('col2',int),('col3',\"S10\"),])\n",
    "data = list(d[0])\n",
    "data = sorted(data)\n",
    "data = data[10:]\n",
    "print len(data)\n",
    "for _ in xrange(5):\n",
    "    data.remove(max(data))\n",
    "    data.remove(min(data))\n",
    "data = np.array(data)\n",
    "\n",
    "stats.probplot(data, dist=\"norm\", plot=plt)\n",
    "\n",
    "# 平均\n",
    "avg = np.average(data)\n",
    "print \"AVG:\", avg\n",
    "std = np.std(data)\n",
    "print \"STD\", std\n",
    "\n",
    "# カイ二乗検定\n",
    "# R = np.random.randn(len(data))\n",
    "R = R=[random.normalvariate(mu=avg, sigma=std) for _ in data]\n",
    "x2, p = stats.chisquare(data, f_exp=R)\n",
    "print \"X2:\", x2, \"\\nP:\", p\n",
    "# シャピロ=ウィルク検定\n",
    "w, p = stats.shapiro(data)\n",
    "print \"W:\", w, \"\\nP:\", p\n",
    "\n",
    "\n",
    "y,x = np.histogram(data)\n",
    "x = 0.5*(x[1:]+x[:-1])\n",
    "# plt.hist(data, alpha=0.2, bins=20)\n",
    "# plt.plot(x,y, color=\"red\")\n",
    "print x[list(y).index(max(y))]\n",
    "avg = np.average(data)\n",
    "print \"AVG:\", avg\n",
    "std = np.std(data)\n",
    "print \"STD\", std\n",
    "\n",
    "data = list(data)\n",
    "for _ in xrange(5):\n",
    "    data.remove(max(data))\n",
    "    data.remove(min(data))\n",
    "data = np.array(data)\n",
    "\n",
    "y,x = np.histogram(data)\n",
    "x = 0.5*(x[1:]+x[:-1])\n",
    "# plt.hist(data, alpha=0.2, bins=20)\n",
    "# plt.plot(x,y, color=\"red\")\n",
    "print x[list(y).index(max(y))]\n",
    "avg = np.average(data)\n",
    "print \"AVG:\", avg\n",
    "std = np.std(data)\n",
    "print \"STD\", std\n",
    "\n",
    "\n",
    "# カイ二乗検定\n",
    "# R = np.random.randn(len(data))\n",
    "R = R=[random.normalvariate(mu=avg, sigma=std) for _ in data]\n",
    "x2, p = stats.chisquare(data, f_exp=R)\n",
    "print \"X2:\", x2, \"\\nP:\", p\n",
    "# シャピロ=ウィルク検定\n",
    "w, p = stats.shapiro(data)\n",
    "print \"W:\", w, \"\\nP:\", p\n",
    "# print data\n"
   ]
  },
  {
   "cell_type": "code",
   "execution_count": null,
   "metadata": {
    "collapsed": true
   },
   "outputs": [],
   "source": []
  }
 ],
 "metadata": {
  "kernelspec": {
   "display_name": "Python 2",
   "language": "python",
   "name": "python2"
  },
  "language_info": {
   "codemirror_mode": {
    "name": "ipython",
    "version": 2
   },
   "file_extension": ".py",
   "mimetype": "text/x-python",
   "name": "python",
   "nbconvert_exporter": "python",
   "pygments_lexer": "ipython2",
   "version": "2.7.11"
  }
 },
 "nbformat": 4,
 "nbformat_minor": 0
}
